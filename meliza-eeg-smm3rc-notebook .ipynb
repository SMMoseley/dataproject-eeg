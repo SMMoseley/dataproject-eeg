{
 "cells": [
  {
   "cell_type": "code",
   "execution_count": 1,
   "metadata": {},
   "outputs": [
    {
     "name": "stdout",
     "output_type": "stream",
     "text": [
      "Collecting package metadata (current_repodata.json): ...working... done\n",
      "Solving environment: ...working... done\n",
      "\n",
      "# All requested packages already installed.\n",
      "\n",
      "\n",
      "Note: you may need to restart the kernel to use updated packages.\n"
     ]
    }
   ],
   "source": [
    "conda install git numpy scipy pandas matplotlib notebook h5py\n"
   ]
  },
  {
   "cell_type": "code",
   "execution_count": 1,
   "metadata": {},
   "outputs": [],
   "source": [
    "import h5py as h5\n",
    "import numpy as np\n",
    "#Plot packages\n",
    "%matplotlib inline\n",
    "import matplotlib as mpl\n",
    "import matplotlib.pyplot as plt   # plotting\n",
    "# set some style options\n",
    "mpl.rcParams['image.origin'] = 'lower'\n",
    "mpl.rcParams['image.aspect'] = 'auto'\n",
    "mpl.rcParams['image.cmap'] = 'jet'"
   ]
  },
  {
   "cell_type": "code",
   "execution_count": 12,
   "metadata": {},
   "outputs": [],
   "source": [
    "#This function allows me to retrieve the data using h5py\n",
    "def data_retrieval(filepath):\n",
    "    Importeddata= h5.File(filepath,'r')\n",
    "    return Importeddata   "
   ]
  },
  {
   "cell_type": "code",
   "execution_count": 17,
   "metadata": {},
   "outputs": [
    {
     "name": "stdout",
     "output_type": "stream",
     "text": [
      "List of datasets in this file:\n",
      " ['rec_0', 'rec_1', 'rec_10', 'rec_11', 'rec_12', 'rec_13', 'rec_14', 'rec_15', 'rec_16', 'rec_17', 'rec_18', 'rec_19', 'rec_2', 'rec_20', 'rec_21', 'rec_22', 'rec_23', 'rec_24', 'rec_25', 'rec_26', 'rec_27', 'rec_28', 'rec_29', 'rec_3', 'rec_4', 'rec_5', 'rec_6', 'rec_7', 'rec_8', 'rec_9']\n"
     ]
    }
   ],
   "source": [
    "#This is a practice with using my new function\n",
    "datapractice=data_retrieval('resources\\P1\\P1_20190912_mismatch_r1.arf')\n",
    "datalist=list(datapractice.keys())\n",
    "print('List of datasets in this file:\\n',datalist)"
   ]
  },
  {
   "cell_type": "code",
   "execution_count": 16,
   "metadata": {},
   "outputs": [
    {
     "name": "stdout",
     "output_type": "stream",
     "text": [
      "List of datasets in this file:\n",
      " ['rec_0', 'rec_1', 'rec_10', 'rec_11', 'rec_12', 'rec_13', 'rec_14', 'rec_15', 'rec_16', 'rec_17', 'rec_18', 'rec_19', 'rec_2', 'rec_20', 'rec_21', 'rec_22', 'rec_23', 'rec_24', 'rec_25', 'rec_26', 'rec_27', 'rec_28', 'rec_29', 'rec_3', 'rec_4', 'rec_5', 'rec_6', 'rec_7', 'rec_8', 'rec_9']\n",
      "List of datasets in this file:\n",
      " ['Messages', 'TTL', 'channel0', 'channel1', 'channel2', 'channel3', 'channel4', 'channel5', 'channel6', 'channel7', 'channel8']\n",
      "[634 644 634 ... 514 490 474]\n"
     ]
    }
   ],
   "source": [
    "#This code allows me to look at subject data and select the recording and channel I want to look at but the working directory has to be in my resources folder.\n",
    "with h5.File('resources\\P1\\P1_20190912_mismatch_r1.arf','r') as P1:\n",
    "    ls=list(P1.keys())\n",
    "    print('List of datasets in this file:\\n',ls)\n",
    "    data=P1.get('rec_0')\n",
    "    lsdata=list(data.keys())\n",
    "    print('List of datasets in this file:\\n',lsdata)\n",
    "    rec0_Channel1get=data.get('channel0')\n",
    "    Rec0_Channel1=np.array(rec0_Channel1get)\n",
    "print (Rec0_Channel1)"
   ]
  },
  {
   "cell_type": "code",
   "execution_count": 4,
   "metadata": {},
   "outputs": [
    {
     "data": {
      "text/plain": [
       "[<matplotlib.lines.Line2D at 0x18e0a529e08>]"
      ]
     },
     "execution_count": 4,
     "metadata": {},
     "output_type": "execute_result"
    },
    {
     "data": {
      "image/png": "[encoded data removed]",
      "text/plain": [
       "<Figure size 432x288 with 1 Axes>"
      ]
     },
     "metadata": {
      "needs_background": "light"
     },
     "output_type": "display_data"
    }
   ],
   "source": [
    "#This code plots what the channel data looks like so I can visualize the recordings\n",
    "plt.plot(Rec0_Channel1)"
   ]
  }
 ],
 "metadata": {
  "kernelspec": {
   "display_name": "Python 3",
   "language": "python",
   "name": "python3"
  },
  "language_info": {
   "codemirror_mode": {
    "name": "ipython",
    "version": 3
   },
   "file_extension": ".py",
   "mimetype": "text/x-python",
   "name": "python",
   "nbconvert_exporter": "python",
   "pygments_lexer": "ipython3",
   "version": "3.7.6"
  }
 },
 "nbformat": 4,
 "nbformat_minor": 2
}
